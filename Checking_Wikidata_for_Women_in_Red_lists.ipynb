{
  "nbformat": 4,
  "nbformat_minor": 0,
  "metadata": {
    "colab": {
      "provenance": []
    },
    "kernelspec": {
      "name": "python3",
      "display_name": "Python 3"
    },
    "language_info": {
      "name": "python"
    }
  },
  "cells": [
    {
      "cell_type": "code",
      "execution_count": null,
      "metadata": {
        "id": "R86frCiLYVK8"
      },
      "outputs": [],
      "source": []
    },
    {
      "cell_type": "code",
      "source": [
        "pip install html_to_json"
      ],
      "metadata": {
        "colab": {
          "base_uri": "https://localhost:8080/"
        },
        "id": "hEUKHZ7ANiXs",
        "outputId": "d2fdd06e-ac8c-4c99-96bf-eefedb318f9b"
      },
      "execution_count": null,
      "outputs": [
        {
          "output_type": "stream",
          "name": "stdout",
          "text": [
            "Collecting html_to_json\n",
            "  Downloading html_to_json-2.0.0-py2.py3-none-any.whl (6.4 kB)\n",
            "Collecting bs4 (from html_to_json)\n",
            "  Downloading bs4-0.0.1.tar.gz (1.1 kB)\n",
            "  Preparing metadata (setup.py) ... \u001b[?25l\u001b[?25hdone\n",
            "Requirement already satisfied: beautifulsoup4 in /usr/local/lib/python3.10/dist-packages (from bs4->html_to_json) (4.11.2)\n",
            "Requirement already satisfied: soupsieve>1.2 in /usr/local/lib/python3.10/dist-packages (from beautifulsoup4->bs4->html_to_json) (2.4.1)\n",
            "Building wheels for collected packages: bs4\n",
            "  Building wheel for bs4 (setup.py) ... \u001b[?25l\u001b[?25hdone\n",
            "  Created wheel for bs4: filename=bs4-0.0.1-py3-none-any.whl size=1257 sha256=d3e3a7e445ef0b838e85ae527569d8177c3d90b72ba6588349f569af1500f7b4\n",
            "  Stored in directory: /root/.cache/pip/wheels/25/42/45/b773edc52acb16cd2db4cf1a0b47117e2f69bb4eb300ed0e70\n",
            "Successfully built bs4\n",
            "Installing collected packages: bs4, html_to_json\n",
            "Successfully installed bs4-0.0.1 html_to_json-2.0.0\n"
          ]
        }
      ]
    },
    {
      "cell_type": "code",
      "source": [
        "import requests, json, csv\n",
        "import html_to_json\n",
        "import pandas as pd"
      ],
      "metadata": {
        "id": "o2c0M-3hUFUF"
      },
      "execution_count": null,
      "outputs": []
    },
    {
      "cell_type": "code",
      "source": [],
      "metadata": {
        "id": "m9stqf7xhUk6"
      },
      "execution_count": null,
      "outputs": []
    },
    {
      "cell_type": "code",
      "source": [
        "'''\n",
        "  Load information and get to column level\n",
        "'''\n",
        "pageid=input('What is the Page ID? ')\n",
        "payload = requests.get('https://en.wikipedia.org/w/api.php?action=parse&format=json&pageid=' + pageid).json()['parse']['text']['*']\n",
        "#test 1: 57396344 (Botanists)\n",
        "#test 2: 65609442 (African-American Suffragists; shorter; takes less time to process)\n",
        "#Example for LD4: 61615302 (Rugby League)\n",
        "len(payload)\n",
        "dict_payload=html_to_json.convert(payload)['div'][0]['table'][-1]['tbody'][0]['tr']\n",
        "print(dict_payload)\n",
        "\n"
      ],
      "metadata": {
        "id": "RXVEb4uzd2M3",
        "colab": {
          "base_uri": "https://localhost:8080/"
        },
        "outputId": "75d3d6d9-9f9b-41d9-f855-3489e16aa8a8"
      },
      "execution_count": null,
      "outputs": [
        {
          "output_type": "stream",
          "name": "stdout",
          "text": [
            "What is the Page ID? 61615302\n",
            "[{'th': [{'_value': 'name'}, {'_value': 'image'}, {'_value': 'description'}, {'_value': 'country of citizenship'}, {'_value': 'date of birth'}, {'_value': 'date of death'}, {'_value': 'place of birth'}, {'_value': 'place of death'}, {'_value': 'item'}, {'_value': 'site links'}]}, {'td': [{'a': [{'_attributes': {'href': '/w/index.php?title=Elisa_Ciria&action=edit&redlink=1', 'class': ['new'], 'title': 'Elisa Ciria (page does not exist)'}, '_value': 'Elisa Ciria'}]}, {}, {'style': [{'_attributes': {'data-mw-deduplicate': 'TemplateStyles:r1066479718'}, '_value': '.mw-parser-output .infobox-subbox{padding:0;border:none;margin:-3px;width:auto;min-width:100%;font-size:100%;clear:none;float:none;background-color:transparent}.mw-parser-output .infobox-3cols-child{margin:auto}.mw-parser-output .infobox .navbar{font-size:100%}body.skin-minerva .mw-parser-output .infobox-header,body.skin-minerva .mw-parser-output .infobox-subheader,body.skin-minerva .mw-parser-output .infobox-above,body.skin-minerva .mw-parser-output .infobox-title,body.skin-minerva .mw-parser-output .infobox-image,body.skin-minerva .mw-parser-output .infobox-full-data,body.skin-minerva .mw-parser-output .infobox-below{text-align:center}'}], 'table': [{'_attributes': {'class': ['infobox', 'biography', 'vcard']}, 'tbody': [{'tr': [{'th': [{'_attributes': {'colspan': '2', 'class': ['infobox-above'], 'style': 'font-size:125%;'}, 'div': [{'_attributes': {'class': ['fn'], 'style': 'display:inline'}, '_value': 'Elisa Ciria'}]}]}, {'th': [{'_attributes': {'scope': 'row', 'class': ['infobox-label']}, '_value': 'Born'}], 'td': [{'_attributes': {'class': ['infobox-data']}, '_value': '-11T00:00:'}]}, {'th': [{'_attributes': {'scope': 'row', 'class': ['infobox-label']}, '_value': 'Occupation(s)'}], 'td': [{'_attributes': {'class': ['infobox-data', 'role']}, '_value': 'rugby league player,', 'a': [{'_attributes': {'href': '/wiki/Judoka', 'class': ['mw-redirect'], 'title': 'Judoka'}, '_value': 'judoka'}]}]}]}]}], 'p': [{'a': [{'_attributes': {'href': '/wiki/Judoka', 'class': ['mw-redirect'], 'title': 'Judoka'}, '_value': 'judoka'}], '_values': ['Rugby league player and', '(*1987) ♀']}]}, {}, {'_value': '1987-11-11'}, {}, {}, {}, {'a': [{'_attributes': {'href': 'https://www.wikidata.org/wiki/Q108038804', 'class': ['extiw'], 'title': 'd:Q108038804'}, '_value': 'Q108038804'}]}, {'_value': '1'}]}, {'td': [{'a': [{'_attributes': {'href': '/w/index.php?title=Cristina_Song-Puche&action=edit&redlink=1', 'class': ['new'], 'title': 'Cristina Song-Puche (page does not exist)'}, '_value': 'Cristina Song-Puche'}]}, {}, {'link': [{'_attributes': {'rel': ['mw-deduplicated-inline-style'], 'href': 'mw-data:TemplateStyles:r1066479718'}}], 'table': [{'_attributes': {'class': ['infobox', 'biography', 'vcard']}, 'tbody': [{'tr': [{'th': [{'_attributes': {'colspan': '2', 'class': ['infobox-above'], 'style': 'font-size:125%;'}, 'div': [{'_attributes': {'class': ['fn'], 'style': 'display:inline'}, '_value': 'Cristina Song-Puche'}]}]}, {'th': [{'_attributes': {'scope': 'row', 'class': ['infobox-label']}, '_value': 'Born'}], 'td': [{'_attributes': {'class': ['infobox-data']}, '_value': '-25T00:00:', 'br': [{}], 'div': [{'_attributes': {'style': 'display:inline', 'class': ['birthplace']}, 'a': [{'_attributes': {'href': '/wiki/Yecla', 'title': 'Yecla'}, '_value': 'Yecla'}]}]}]}, {'th': [{'_attributes': {'scope': 'row', 'class': ['infobox-label']}, '_value': 'Nationality'}], 'td': [{'_attributes': {'class': ['infobox-data', 'category']}, 'a': [{'_attributes': {'href': '/wiki/France', 'title': 'France'}, '_value': 'France'}, {'_attributes': {'href': '/wiki/Spain', 'title': 'Spain'}, '_value': 'Spain'}], '_value': ','}]}, {'th': [{'_attributes': {'scope': 'row', 'class': ['infobox-label']}, '_value': 'Alma\\xa0mater'}], 'td': [{'_attributes': {'class': ['infobox-data']}, 'a': [{'_attributes': {'href': '/wiki/University_of_Alicante', 'title': 'University of Alicante'}, '_value': 'University of Alicante'}]}]}, {'th': [{'_attributes': {'scope': 'row', 'class': ['infobox-label']}, '_value': 'Occupation(s)'}], 'td': [{'_attributes': {'class': ['infobox-data', 'role']}, '_value': 'rugby league player, rugby sevens player'}]}]}]}], 'p': [{'_value': 'Rugby league player and rugby sevens player (*1989) ♀'}]}, {'a': [{'_attributes': {'href': '/wiki/France', 'title': 'France'}, '_value': 'France'}, {'_attributes': {'href': '/wiki/Spain', 'title': 'Spain'}, '_value': 'Spain'}], 'br': [{}]}, {'_value': '1989-10-25'}, {}, {'a': [{'_attributes': {'href': '/wiki/Yecla', 'title': 'Yecla'}, '_value': 'Yecla'}]}, {}, {'a': [{'_attributes': {'href': 'https://www.wikidata.org/wiki/Q63145797', 'class': ['extiw'], 'title': 'd:Q63145797'}, '_value': 'Q63145797'}]}, {'_value': '1'}]}, {'td': [{'a': [{'_attributes': {'href': '/w/index.php?title=Leila_Bessahli&action=edit&redlink=1', 'class': ['new'], 'title': 'Leila Bessahli (page does not exist)'}, '_value': 'Leila Bessahli'}]}, {}, {'link': [{'_attributes': {'rel': ['mw-deduplicated-inline-style'], 'href': 'mw-data:TemplateStyles:r1066479718'}}], 'table': [{'_attributes': {'class': ['infobox', 'biography', 'vcard']}, 'tbody': [{'tr': [{'th': [{'_attributes': {'colspan': '2', 'class': ['infobox-above'], 'style': 'font-size:125%;'}, 'div': [{'_attributes': {'class': ['fn'], 'style': 'display:inline'}, '_value': 'Leila Bessahli'}]}]}, {'th': [{'_attributes': {'scope': 'row', 'class': ['infobox-label']}, '_value': 'Born'}], 'td': [{'_attributes': {'class': ['infobox-data']}, '_value': '-08T00:00:'}]}, {'th': [{'_attributes': {'scope': 'row', 'class': ['infobox-label']}, '_value': 'Nationality'}], 'td': [{'_attributes': {'class': ['infobox-data', 'category']}, 'a': [{'_attributes': {'href': '/wiki/France', 'title': 'France'}, '_value': 'France'}]}]}, {'th': [{'_attributes': {'scope': 'row', 'class': ['infobox-label']}, '_value': 'Occupation'}], 'td': [{'_attributes': {'class': ['infobox-data', 'role']}, '_value': 'rugby league player'}]}]}]}], 'p': [{'_value': 'Rugby league player (*1997) ♀'}]}, {'a': [{'_attributes': {'href': '/wiki/France', 'title': 'France'}, '_value': 'France'}]}, {'_value': '1997-03-08'}, {}, {}, {}, {'a': [{'_attributes': {'href': 'https://www.wikidata.org/wiki/Q63145664', 'class': ['extiw'], 'title': 'd:Q63145664'}, '_value': 'Q63145664'}]}, {'_value': '1'}]}, {'td': [{'a': [{'_attributes': {'href': '/w/index.php?title=Page_McGregor&action=edit&redlink=1', 'class': ['new'], 'title': 'Page McGregor (page does not exist)'}, '_value': 'Page McGregor'}]}, {}, {'_value': 'Australian rugby union player and rugby league player'}, {'a': [{'_attributes': {'href': '/wiki/Australia', 'title': 'Australia'}, '_value': 'Australia'}]}, {'_value': '1999-03-11'}, {}, {}, {}, {'a': [{'_attributes': {'href': 'https://www.wikidata.org/wiki/Q109317782', 'class': ['extiw'], 'title': 'd:Q109317782'}, '_value': 'Q109317782'}]}, {'_value': '1'}]}, {'td': [{'a': [{'_attributes': {'href': '/w/index.php?title=Laur%C3%A9ane_Biville&action=edit&redlink=1', 'class': ['new'], 'title': 'Lauréane Biville (page does not exist)'}, '_value': 'Lauréane Biville'}]}, {}, {'_value': 'French rugby league woman player'}, {'a': [{'_attributes': {'href': '/wiki/France', 'title': 'France'}, '_value': 'France'}]}, {'_value': '1999-05'}, {}, {}, {}, {'a': [{'_attributes': {'href': 'https://www.wikidata.org/wiki/Q63145696', 'class': ['extiw'], 'title': 'd:Q63145696'}, '_value': 'Q63145696'}]}, {'_value': '1'}]}, {'td': [{'a': [{'_attributes': {'href': '/w/index.php?title=Ma%C3%AFlys_Borak&action=edit&redlink=1', 'class': ['new'], 'title': 'Maïlys Borak (page does not exist)'}, '_value': 'Maïlys Borak'}]}, {}, {'_value': 'french rugby player'}, {'a': [{'_attributes': {'href': '/wiki/France', 'title': 'France'}, '_value': 'France'}]}, {'_value': '2004-01-12'}, {}, {}, {}, {'a': [{'_attributes': {'href': 'https://www.wikidata.org/wiki/Q119555256', 'class': ['extiw'], 'title': 'd:Q119555256'}, '_value': 'Q119555256'}]}, {'_value': '2'}]}, {'td': [{'a': [{'_attributes': {'href': '/w/index.php?title=Neta_Peau&action=edit&redlink=1', 'class': ['new'], 'title': 'Neta Peau (page does not exist)'}, '_value': 'Neta Peau'}]}, {'div': [{'_attributes': {'class': ['center']}, 'div': [{'_attributes': {'class': ['floatnone']}, 'a': [{'_attributes': {'href': '/wiki/File:Neta_Peau_MNZM_(cropped).jpg', 'class': ['image']}, 'img': [{'_attributes': {'alt': 'Neta Peau MNZM (cropped).jpg', 'src': '//upload.wikimedia.org/wikipedia/commons/thumb/0/0f/Neta_Peau_MNZM_%28cropped%29.jpg/40px-Neta_Peau_MNZM_%28cropped%29.jpg', 'decoding': 'async', 'width': '40', 'height': '59', 'srcset': '//upload.wikimedia.org/wikipedia/commons/thumb/0/0f/Neta_Peau_MNZM_%28cropped%29.jpg/60px-Neta_Peau_MNZM_%28cropped%29.jpg 1.5x, //upload.wikimedia.org/wikipedia/commons/thumb/0/0f/Neta_Peau_MNZM_%28cropped%29.jpg/80px-Neta_Peau_MNZM_%28cropped%29.jpg 2x', 'data-file-width': '1650', 'data-file-height': '2450'}}]}]}]}]}, {'_value': 'Tokelauan community leader in New Zealand and rugby league player'}, {'a': [{'_attributes': {'href': '/wiki/New_Zealand', 'title': 'New Zealand'}, '_value': 'New Zealand'}]}, {}, {}, {}, {}, {'a': [{'_attributes': {'href': 'https://www.wikidata.org/wiki/Q112249476', 'class': ['extiw'], 'title': 'd:Q112249476'}, '_value': 'Q112249476'}]}, {'_value': '1'}]}, {'td': [{'a': [{'_attributes': {'href': '/w/index.php?title=Jill_Adams_(Q116462534)&action=edit&redlink=1', 'class': ['new'], 'title': 'Jill Adams (Q116462534) (page does not exist)'}, '_value': 'Jill Adams'}]}, {}, {'_value': 'Rugby league footballer'}, {}, {}, {}, {}, {}, {'a': [{'_attributes': {'href': 'https://www.wikidata.org/wiki/Q116462534', 'class': ['extiw'], 'title': 'd:Q116462534'}, '_value': 'Q116462534'}]}, {'_value': '0'}]}, {'td': [{'a': [{'_attributes': {'href': '/w/index.php?title=Jane_Banks&action=edit&redlink=1', 'class': ['new'], 'title': 'Jane Banks (page does not exist)'}, '_value': 'Jane Banks'}]}, {}, {'_value': 'Rugby league footballer'}, {}, {}, {}, {}, {}, {'a': [{'_attributes': {'href': 'https://www.wikidata.org/wiki/Q116475202', 'class': ['extiw'], 'title': 'd:Q116475202'}, '_value': 'Q116475202'}]}, {'_value': '0'}]}, {'td': [{'a': [{'_attributes': {'href': '/w/index.php?title=Karen_Burrows&action=edit&redlink=1', 'class': ['new'], 'title': 'Karen Burrows (page does not exist)'}, '_value': 'Karen Burrows'}]}, {}, {'_value': 'Rugby league footballer'}, {}, {}, {}, {}, {}, {'a': [{'_attributes': {'href': 'https://www.wikidata.org/wiki/Q116476582', 'class': ['extiw'], 'title': 'd:Q116476582'}, '_value': 'Q116476582'}]}, {'_value': '0'}]}, {'td': [{'a': [{'_attributes': {'href': '/w/index.php?title=Leah_Carey&action=edit&redlink=1', 'class': ['new'], 'title': 'Leah Carey (page does not exist)'}, '_value': 'Leah Carey'}]}, {}, {'_value': 'Rugby league footballer'}, {}, {}, {}, {}, {}, {'a': [{'_attributes': {'href': 'https://www.wikidata.org/wiki/Q116476730', 'class': ['extiw'], 'title': 'd:Q116476730'}, '_value': 'Q116476730'}]}, {'_value': '0'}]}, {'td': [{'a': [{'_attributes': {'href': '/w/index.php?title=Adriana_Felix&action=edit&redlink=1', 'class': ['new'], 'title': 'Adriana Felix (page does not exist)'}, '_value': 'Adriana Felix'}]}, {}, {'_value': 'Rugby league footballer'}, {}, {}, {}, {}, {}, {'a': [{'_attributes': {'href': 'https://www.wikidata.org/wiki/Q116492978', 'class': ['extiw'], 'title': 'd:Q116492978'}, '_value': 'Q116492978'}]}, {'_value': '0'}]}, {'td': [{'a': [{'_attributes': {'href': '/w/index.php?title=Francesca_Goldthorp_(Q116494457)&action=edit&redlink=1', 'class': ['new'], 'title': 'Francesca Goldthorp (Q116494457) (page does not exist)'}, '_value': 'Francesca Goldthorp'}]}, {}, {'_value': 'Rugby league footballer'}, {}, {}, {}, {}, {}, {'a': [{'_attributes': {'href': 'https://www.wikidata.org/wiki/Q116494457', 'class': ['extiw'], 'title': 'd:Q116494457'}, '_value': 'Q116494457'}]}, {'_value': '0'}]}, {'td': [{'a': [{'_attributes': {'href': '/w/index.php?title=Georgia_Hale_(Q116495194)&action=edit&redlink=1', 'class': ['new'], 'title': 'Georgia Hale (Q116495194) (page does not exist)'}, '_value': 'Georgia Hale'}]}, {}, {'_value': 'Rugby league footballer'}, {}, {}, {}, {}, {}, {'a': [{'_attributes': {'href': 'https://www.wikidata.org/wiki/Q116495194', 'class': ['extiw'], 'title': 'd:Q116495194'}, '_value': 'Q116495194'}]}, {'_value': '0'}]}, {'td': [{'a': [{'_attributes': {'href': '/w/index.php?title=Lavinia_Kitai&action=edit&redlink=1', 'class': ['new'], 'title': 'Lavinia Kitai (page does not exist)'}, '_value': 'Lavinia Kitai'}]}, {}, {'_value': 'Rugby league footballer'}, {}, {}, {}, {}, {}, {'a': [{'_attributes': {'href': 'https://www.wikidata.org/wiki/Q116498069', 'class': ['extiw'], 'title': 'd:Q116498069'}, '_value': 'Q116498069'}]}, {'_value': '0'}]}, {'td': [{'a': [{'_attributes': {'href': '/w/index.php?title=Julias_Krewanty&action=edit&redlink=1', 'class': ['new'], 'title': 'Julias Krewanty (page does not exist)'}, '_value': 'Julias Krewanty'}]}, {}, {'_value': 'Rugby league footballer'}, {}, {}, {}, {}, {}, {'a': [{'_attributes': {'href': 'https://www.wikidata.org/wiki/Q116498243', 'class': ['extiw'], 'title': 'd:Q116498243'}, '_value': 'Q116498243'}]}, {'_value': '0'}]}, {'td': [{'a': [{'_attributes': {'href': '/w/index.php?title=Joan_Kuman&action=edit&redlink=1', 'class': ['new'], 'title': 'Joan Kuman (page does not exist)'}, '_value': 'Joan Kuman'}]}, {}, {'_value': 'Rugby league footballer'}, {}, {}, {}, {}, {}, {'a': [{'_attributes': {'href': 'https://www.wikidata.org/wiki/Q116498264', 'class': ['extiw'], 'title': 'd:Q116498264'}, '_value': 'Q116498264'}]}, {'_value': '0'}]}, {'td': [{'a': [{'_attributes': {'href': '/w/index.php?title=Janet_Michael&action=edit&redlink=1', 'class': ['new'], 'title': 'Janet Michael (page does not exist)'}, '_value': 'Janet Michael'}]}, {}, {'_value': 'Rugby league footballer'}, {}, {}, {}, {}, {}, {'a': [{'_attributes': {'href': 'https://www.wikidata.org/wiki/Q116499941', 'class': ['extiw'], 'title': 'd:Q116499941'}, '_value': 'Q116499941'}]}, {'_value': '0'}]}, {'td': [{'a': [{'_attributes': {'href': '/w/index.php?title=Giovanna_Moura&action=edit&redlink=1', 'class': ['new'], 'title': 'Giovanna Moura (page does not exist)'}, '_value': 'Giovanna Moura'}]}, {}, {'_value': 'Rugby league footballer'}, {}, {}, {}, {}, {}, {'a': [{'_attributes': {'href': 'https://www.wikidata.org/wiki/Q116500557', 'class': ['extiw'], 'title': 'd:Q116500557'}, '_value': 'Q116500557'}]}, {'_value': '0'}]}, {'td': [{'a': [{'_attributes': {'href': '/w/index.php?title=Karyn_Murphy&action=edit&redlink=1', 'class': ['new'], 'title': 'Karyn Murphy (page does not exist)'}, '_value': 'Karyn Murphy'}]}, {}, {'_value': 'Rugby league footballer'}, {}, {}, {}, {}, {}, {'a': [{'_attributes': {'href': 'https://www.wikidata.org/wiki/Q116500681', 'class': ['extiw'], 'title': 'd:Q116500681'}, '_value': 'Q116500681'}]}, {'_value': '0'}]}, {'td': [{'a': [{'_attributes': {'href': '/w/index.php?title=Ada_Okonkwo&action=edit&redlink=1', 'class': ['new'], 'title': 'Ada Okonkwo (page does not exist)'}, '_value': 'Ada Okonkwo'}]}, {}, {'_value': 'Rugby league footballer'}, {}, {}, {}, {}, {}, {'a': [{'_attributes': {'href': 'https://www.wikidata.org/wiki/Q116501288', 'class': ['extiw'], 'title': 'd:Q116501288'}, '_value': 'Q116501288'}]}, {'_value': '0'}]}, {'td': [{'a': [{'_attributes': {'href': '/w/index.php?title=Irene_Patrinos&action=edit&redlink=1', 'class': ['new'], 'title': 'Irene Patrinos (page does not exist)'}, '_value': 'Irene Patrinos'}]}, {}, {'_value': 'Rugby league footballer'}, {}, {}, {}, {}, {}, {'a': [{'_attributes': {'href': 'https://www.wikidata.org/wiki/Q116501571', 'class': ['extiw'], 'title': 'd:Q116501571'}, '_value': 'Q116501571'}]}, {'_value': '0'}]}, {'td': [{'a': [{'_attributes': {'href': '/w/index.php?title=Josefa_Rasiga&action=edit&redlink=1', 'class': ['new'], 'title': 'Josefa Rasiga (page does not exist)'}, '_value': 'Josefa Rasiga'}]}, {}, {'_value': 'Rugby league footballer'}, {}, {}, {}, {}, {}, {'a': [{'_attributes': {'href': 'https://www.wikidata.org/wiki/Q116502028', 'class': ['extiw'], 'title': 'd:Q116502028'}, '_value': 'Q116502028'}]}, {'_value': '0'}]}, {'td': [{'a': [{'_attributes': {'href': '/w/index.php?title=Julia_Robinson_(Q116502254)&action=edit&redlink=1', 'class': ['new'], 'title': 'Julia Robinson (Q116502254) (page does not exist)'}, '_value': 'Julia Robinson'}]}, {}, {'_value': 'Rugby league footballer'}, {}, {}, {}, {}, {}, {'a': [{'_attributes': {'href': 'https://www.wikidata.org/wiki/Q116502254', 'class': ['extiw'], 'title': 'd:Q116502254'}, '_value': 'Q116502254'}]}, {'_value': '0'}]}, {'td': [{'a': [{'_attributes': {'href': '/w/index.php?title=Karen_Shaw&action=edit&redlink=1', 'class': ['new'], 'title': 'Karen Shaw (page does not exist)'}, '_value': 'Karen Shaw'}]}, {}, {'_value': 'Rugby league footballer'}, {}, {}, {}, {}, {}, {'a': [{'_attributes': {'href': 'https://www.wikidata.org/wiki/Q116502747', 'class': ['extiw'], 'title': 'd:Q116502747'}, '_value': 'Q116502747'}]}, {'_value': '0'}]}, {'td': [{'a': [{'_attributes': {'href': '/w/index.php?title=Emma_Slowe&action=edit&redlink=1', 'class': ['new'], 'title': 'Emma Slowe (page does not exist)'}, '_value': 'Emma Slowe'}]}, {}, {'_value': 'Rugby league footballer'}, {}, {}, {}, {}, {}, {'a': [{'_attributes': {'href': 'https://www.wikidata.org/wiki/Q116502906', 'class': ['extiw'], 'title': 'd:Q116502906'}, '_value': 'Q116502906'}]}, {'_value': '0'}]}, {'td': [{'a': [{'_attributes': {'href': '/w/index.php?title=Karen_Stuart&action=edit&redlink=1', 'class': ['new'], 'title': 'Karen Stuart (page does not exist)'}, '_value': 'Karen Stuart'}]}, {}, {'_value': 'Rugby league footballer'}, {}, {}, {}, {}, {}, {'a': [{'_attributes': {'href': 'https://www.wikidata.org/wiki/Q116503319', 'class': ['extiw'], 'title': 'd:Q116503319'}, '_value': 'Q116503319'}]}, {'_value': '0'}]}, {'td': [{'a': [{'_attributes': {'href': '/w/index.php?title=Karen_Taingahue&action=edit&redlink=1', 'class': ['new'], 'title': 'Karen Taingahue (page does not exist)'}, '_value': 'Karen Taingahue'}]}, {}, {'_value': 'Rugby league footballer'}, {}, {}, {}, {}, {}, {'a': [{'_attributes': {'href': 'https://www.wikidata.org/wiki/Q116503417', 'class': ['extiw'], 'title': 'd:Q116503417'}, '_value': 'Q116503417'}]}, {'_value': '0'}]}, {'td': [{'a': [{'_attributes': {'href': '/w/index.php?title=Frances_Te_Ao&action=edit&redlink=1', 'class': ['new'], 'title': 'Frances Te Ao (page does not exist)'}, '_value': 'Frances Te Ao'}]}, {}, {'_value': 'Rugby league footballer'}, {}, {}, {}, {}, {}, {'a': [{'_attributes': {'href': 'https://www.wikidata.org/wiki/Q116503520', 'class': ['extiw'], 'title': 'd:Q116503520'}, '_value': 'Q116503520'}]}, {'_value': '0'}]}, {'td': [{'a': [{'_attributes': {'href': '/w/index.php?title=Helen_Tuimavave&action=edit&redlink=1', 'class': ['new'], 'title': 'Helen Tuimavave (page does not exist)'}, '_value': 'Helen Tuimavave'}]}, {}, {'_value': 'Rugby league footballer'}, {}, {}, {}, {}, {}, {'a': [{'_attributes': {'href': 'https://www.wikidata.org/wiki/Q116503871', 'class': ['extiw'], 'title': 'd:Q116503871'}, '_value': 'Q116503871'}]}, {'_value': '0'}]}, {'td': [{'a': [{'_attributes': {'href': '/w/index.php?title=Emily_Veivers&action=edit&redlink=1', 'class': ['new'], 'title': 'Emily Veivers (page does not exist)'}, '_value': 'Emily Veivers'}]}, {}, {'_value': 'Rugby league footballer'}, {}, {}, {}, {}, {}, {'a': [{'_attributes': {'href': 'https://www.wikidata.org/wiki/Q116504052', 'class': ['extiw'], 'title': 'd:Q116504052'}, '_value': 'Q116504052'}]}, {'_value': '0'}]}, {'td': [{'a': [{'_attributes': {'href': '/w/index.php?title=Katarina_Whatu-Simpkins&action=edit&redlink=1', 'class': ['new'], 'title': 'Katarina Whatu-Simpkins (page does not exist)'}, '_value': 'Katarina Whatu-Simpkins'}]}, {}, {'_value': 'Rugby league footballer'}, {}, {}, {}, {}, {}, {'a': [{'_attributes': {'href': 'https://www.wikidata.org/wiki/Q116504394', 'class': ['extiw'], 'title': 'd:Q116504394'}, '_value': 'Q116504394'}]}, {'_value': '0'}]}, {'td': [{'a': [{'_attributes': {'href': '/w/index.php?title=Joanna_Will&action=edit&redlink=1', 'class': ['new'], 'title': 'Joanna Will (page does not exist)'}, '_value': 'Joanna Will'}]}, {}, {'_value': 'Rugby league footballer'}, {}, {}, {}, {}, {}, {'a': [{'_attributes': {'href': 'https://www.wikidata.org/wiki/Q116504483', 'class': ['extiw'], 'title': 'd:Q116504483'}, '_value': 'Q116504483'}]}, {'_value': '0'}]}, {'td': [{'a': [{'_attributes': {'href': '/w/index.php?title=Emma-Marie_Young&action=edit&redlink=1', 'class': ['new'], 'title': 'Emma-Marie Young (page does not exist)'}, '_value': 'Emma-Marie Young'}]}, {}, {'_value': 'Rugby league footballer'}, {}, {}, {}, {}, {}, {'a': [{'_attributes': {'href': 'https://www.wikidata.org/wiki/Q116504749', 'class': ['extiw'], 'title': 'd:Q116504749'}, '_value': 'Q116504749'}]}, {'_value': '0'}]}]\n"
          ]
        }
      ]
    },
    {
      "cell_type": "code",
      "source": [
        "'''\n",
        "  Create list of names in the table with corresponding Wikidata identifier\n",
        "'''\n",
        "person_list = []\n",
        "row_count = 0\n",
        "for row in dict_payload:\n",
        "  if row.get('td'):\n",
        "    step_count = 0\n",
        "    for step in row['td']:\n",
        "      step_count += 1\n",
        "      column= step.get('a')\n",
        "      if type(column) == list:\n",
        "        if column[0].get('_attributes').get('class') == ['new']:\n",
        "          item = dict_payload[row_count]['td']\n",
        "          for value in item:\n",
        "            if value.get('a'):\n",
        "              if value['a'][0]['_attributes']['title'].startswith('d:Q'):\n",
        "                person_list.append({\n",
        "                    'name':column[0].get('_value'),\n",
        "                    'wikidata_code':value['a'][0]['_value'],\n",
        "                    'wikidata_link':'https://wikidata.org/wiki/'+value['a'][0]['_value']\n",
        "                  })\n",
        "                break\n",
        "  row_count += 1\n",
        "print(person_list)\n"
      ],
      "metadata": {
        "colab": {
          "base_uri": "https://localhost:8080/"
        },
        "id": "F-ZmgfiV2wul",
        "outputId": "3cde51ce-5cc0-47de-d9b6-6b946b8eb366"
      },
      "execution_count": null,
      "outputs": [
        {
          "output_type": "stream",
          "name": "stdout",
          "text": [
            "[{'name': 'Elisa Ciria', 'wikidata_code': 'Q108038804', 'wikidata_link': 'https://wikidata.org/wiki/Q108038804'}, {'name': 'Cristina Song-Puche', 'wikidata_code': 'Q63145797', 'wikidata_link': 'https://wikidata.org/wiki/Q63145797'}, {'name': 'Leila Bessahli', 'wikidata_code': 'Q63145664', 'wikidata_link': 'https://wikidata.org/wiki/Q63145664'}, {'name': 'Page McGregor', 'wikidata_code': 'Q109317782', 'wikidata_link': 'https://wikidata.org/wiki/Q109317782'}, {'name': 'Lauréane Biville', 'wikidata_code': 'Q63145696', 'wikidata_link': 'https://wikidata.org/wiki/Q63145696'}, {'name': 'Maïlys Borak', 'wikidata_code': 'Q119555256', 'wikidata_link': 'https://wikidata.org/wiki/Q119555256'}, {'name': 'Neta Peau', 'wikidata_code': 'Q112249476', 'wikidata_link': 'https://wikidata.org/wiki/Q112249476'}, {'name': 'Jill Adams', 'wikidata_code': 'Q116462534', 'wikidata_link': 'https://wikidata.org/wiki/Q116462534'}, {'name': 'Jane Banks', 'wikidata_code': 'Q116475202', 'wikidata_link': 'https://wikidata.org/wiki/Q116475202'}, {'name': 'Karen Burrows', 'wikidata_code': 'Q116476582', 'wikidata_link': 'https://wikidata.org/wiki/Q116476582'}, {'name': 'Leah Carey', 'wikidata_code': 'Q116476730', 'wikidata_link': 'https://wikidata.org/wiki/Q116476730'}, {'name': 'Adriana Felix', 'wikidata_code': 'Q116492978', 'wikidata_link': 'https://wikidata.org/wiki/Q116492978'}, {'name': 'Francesca Goldthorp', 'wikidata_code': 'Q116494457', 'wikidata_link': 'https://wikidata.org/wiki/Q116494457'}, {'name': 'Georgia Hale', 'wikidata_code': 'Q116495194', 'wikidata_link': 'https://wikidata.org/wiki/Q116495194'}, {'name': 'Lavinia Kitai', 'wikidata_code': 'Q116498069', 'wikidata_link': 'https://wikidata.org/wiki/Q116498069'}, {'name': 'Julias Krewanty', 'wikidata_code': 'Q116498243', 'wikidata_link': 'https://wikidata.org/wiki/Q116498243'}, {'name': 'Joan Kuman', 'wikidata_code': 'Q116498264', 'wikidata_link': 'https://wikidata.org/wiki/Q116498264'}, {'name': 'Janet Michael', 'wikidata_code': 'Q116499941', 'wikidata_link': 'https://wikidata.org/wiki/Q116499941'}, {'name': 'Giovanna Moura', 'wikidata_code': 'Q116500557', 'wikidata_link': 'https://wikidata.org/wiki/Q116500557'}, {'name': 'Karyn Murphy', 'wikidata_code': 'Q116500681', 'wikidata_link': 'https://wikidata.org/wiki/Q116500681'}, {'name': 'Ada Okonkwo', 'wikidata_code': 'Q116501288', 'wikidata_link': 'https://wikidata.org/wiki/Q116501288'}, {'name': 'Irene Patrinos', 'wikidata_code': 'Q116501571', 'wikidata_link': 'https://wikidata.org/wiki/Q116501571'}, {'name': 'Josefa Rasiga', 'wikidata_code': 'Q116502028', 'wikidata_link': 'https://wikidata.org/wiki/Q116502028'}, {'name': 'Julia Robinson', 'wikidata_code': 'Q116502254', 'wikidata_link': 'https://wikidata.org/wiki/Q116502254'}, {'name': 'Karen Shaw', 'wikidata_code': 'Q116502747', 'wikidata_link': 'https://wikidata.org/wiki/Q116502747'}, {'name': 'Emma Slowe', 'wikidata_code': 'Q116502906', 'wikidata_link': 'https://wikidata.org/wiki/Q116502906'}, {'name': 'Karen Stuart', 'wikidata_code': 'Q116503319', 'wikidata_link': 'https://wikidata.org/wiki/Q116503319'}, {'name': 'Karen Taingahue', 'wikidata_code': 'Q116503417', 'wikidata_link': 'https://wikidata.org/wiki/Q116503417'}, {'name': 'Frances Te Ao', 'wikidata_code': 'Q116503520', 'wikidata_link': 'https://wikidata.org/wiki/Q116503520'}, {'name': 'Helen Tuimavave', 'wikidata_code': 'Q116503871', 'wikidata_link': 'https://wikidata.org/wiki/Q116503871'}, {'name': 'Emily Veivers', 'wikidata_code': 'Q116504052', 'wikidata_link': 'https://wikidata.org/wiki/Q116504052'}, {'name': 'Katarina Whatu-Simpkins', 'wikidata_code': 'Q116504394', 'wikidata_link': 'https://wikidata.org/wiki/Q116504394'}, {'name': 'Joanna Will', 'wikidata_code': 'Q116504483', 'wikidata_link': 'https://wikidata.org/wiki/Q116504483'}, {'name': 'Emma-Marie Young', 'wikidata_code': 'Q116504749', 'wikidata_link': 'https://wikidata.org/wiki/Q116504749'}]\n"
          ]
        }
      ]
    },
    {
      "cell_type": "code",
      "source": [
        "'''\n",
        "  Search for possible matches and add to dict\n",
        "'''\n",
        "endpoint = 'https://en.wikipedia.org/w/api.php?action=opensearch&search='\n",
        "items_in_list = len(person_list)\n",
        "list_with_match=[]\n",
        "for person in person_list:\n",
        "  items_in_list -=1\n",
        "  possible_matches_to_check = []\n",
        "  searchable_name = '%27' + person['name'].replace(' ', '%20',) + '%27'\n",
        "  possible_matches=requests.get(endpoint+searchable_name).json()[1]\n",
        "  if possible_matches:\n",
        "    for possible_match in possible_matches:\n",
        "      possible_match = possible_match.replace(' ', '_')\n",
        "      possible_matches_to_check.append('http://en.wikipedia.org/wiki/'+ possible_match)\n",
        "      person['possible_matches']=possible_matches_to_check\n",
        "    list_with_match.append(person)\n",
        "    print(f'Match(es) found for {person[\"name\"]}. {items_in_list} items left to search')\n",
        "  else:\n",
        "    person_list.remove(person)\n",
        "    print(f'No match found for {person[\"name\"]}. {items_in_list} items left to search')\n"
      ],
      "metadata": {
        "id": "xCS23EesZEtk",
        "colab": {
          "base_uri": "https://localhost:8080/"
        },
        "outputId": "c4ba5e9b-0e3d-435b-abc8-d84f48a8735f"
      },
      "execution_count": null,
      "outputs": [
        {
          "output_type": "stream",
          "name": "stdout",
          "text": [
            "No match found for Elisa Ciria. 33 items left to search\n",
            "No match found for Leila Bessahli. 32 items left to search\n",
            "No match found for Lauréane Biville. 31 items left to search\n",
            "No match found for Neta Peau. 30 items left to search\n",
            "Match(es) found for Jane Banks. 29 items left to search\n",
            "No match found for Karen Burrows. 28 items left to search\n",
            "Match(es) found for Adriana Felix. 27 items left to search\n",
            "Match(es) found for Francesca Goldthorp. 26 items left to search\n",
            "Match(es) found for Georgia Hale. 25 items left to search\n",
            "No match found for Lavinia Kitai. 24 items left to search\n",
            "No match found for Joan Kuman. 23 items left to search\n",
            "No match found for Giovanna Moura. 22 items left to search\n",
            "No match found for Ada Okonkwo. 21 items left to search\n",
            "No match found for Josefa Rasiga. 20 items left to search\n",
            "Match(es) found for Karen Shaw. 19 items left to search\n",
            "Match(es) found for Emma Slowe. 18 items left to search\n",
            "No match found for Karen Stuart. 17 items left to search\n",
            "No match found for Frances Te Ao. 16 items left to search\n",
            "No match found for Emily Veivers. 15 items left to search\n",
            "Match(es) found for Joanna Will. 14 items left to search\n",
            "No match found for Emma-Marie Young. 13 items left to search\n"
          ]
        }
      ]
    },
    {
      "cell_type": "code",
      "source": [
        "'''print to csv'''\n",
        "header = ['name', 'wikidata_code', 'wikidata_link', 'possible_matches']\n",
        "csv_file = 'test.csv'\n",
        "try:\n",
        "    with open(csv_file, 'w') as csvfile:\n",
        "        writer = csv.DictWriter(csvfile, fieldnames=header)\n",
        "        writer.writeheader()\n",
        "        for data in list_with_match:\n",
        "            writer.writerow(data)\n",
        "except IOError:\n",
        "    print(\"I/O error\")\n",
        "df1=pd.read_csv(csv_file)\n",
        "df1"
      ],
      "metadata": {
        "colab": {
          "base_uri": "https://localhost:8080/",
          "height": 521
        },
        "id": "UukXw_N2D2dj",
        "outputId": "68234e82-eb3b-4c1f-a29d-55623f860a9e"
      },
      "execution_count": null,
      "outputs": [
        {
          "output_type": "execute_result",
          "data": {
            "text/plain": [
              "                  name wikidata_code                         wikidata_link  \\\n",
              "0           Jane Banks    Q116475202  https://wikidata.org/wiki/Q116475202   \n",
              "1        Adriana Felix    Q116492978  https://wikidata.org/wiki/Q116492978   \n",
              "2  Francesca Goldthorp    Q116494457  https://wikidata.org/wiki/Q116494457   \n",
              "3         Georgia Hale    Q116495194  https://wikidata.org/wiki/Q116495194   \n",
              "4           Karen Shaw    Q116502747  https://wikidata.org/wiki/Q116502747   \n",
              "5           Emma Slowe    Q116502906  https://wikidata.org/wiki/Q116502906   \n",
              "6          Joanna Will    Q116504483  https://wikidata.org/wiki/Q116504483   \n",
              "\n",
              "                                    possible_matches  \n",
              "0        ['http://en.wikipedia.org/wiki/June_Banks']  \n",
              "1  ['http://en.wikipedia.org/wiki/Adriano_Félix_T...  \n",
              "2  ['http://en.wikipedia.org/wiki/Francesca_Goldt...  \n",
              "3  ['http://en.wikipedia.org/wiki/Georgia_Hale', ...  \n",
              "4  ['http://en.wikipedia.org/wiki/Karen_Shaw_Petr...  \n",
              "5  ['http://en.wikipedia.org/wiki/Emma_Flower_Tay...  \n",
              "6  ['http://en.wikipedia.org/wiki/Joanna_Williams...  "
            ],
            "text/html": [
              "\n",
              "  <div id=\"df-b0c36a47-31e0-46be-8f0e-811382160631\">\n",
              "    <div class=\"colab-df-container\">\n",
              "      <div>\n",
              "<style scoped>\n",
              "    .dataframe tbody tr th:only-of-type {\n",
              "        vertical-align: middle;\n",
              "    }\n",
              "\n",
              "    .dataframe tbody tr th {\n",
              "        vertical-align: top;\n",
              "    }\n",
              "\n",
              "    .dataframe thead th {\n",
              "        text-align: right;\n",
              "    }\n",
              "</style>\n",
              "<table border=\"1\" class=\"dataframe\">\n",
              "  <thead>\n",
              "    <tr style=\"text-align: right;\">\n",
              "      <th></th>\n",
              "      <th>name</th>\n",
              "      <th>wikidata_code</th>\n",
              "      <th>wikidata_link</th>\n",
              "      <th>possible_matches</th>\n",
              "    </tr>\n",
              "  </thead>\n",
              "  <tbody>\n",
              "    <tr>\n",
              "      <th>0</th>\n",
              "      <td>Jane Banks</td>\n",
              "      <td>Q116475202</td>\n",
              "      <td>https://wikidata.org/wiki/Q116475202</td>\n",
              "      <td>['http://en.wikipedia.org/wiki/June_Banks']</td>\n",
              "    </tr>\n",
              "    <tr>\n",
              "      <th>1</th>\n",
              "      <td>Adriana Felix</td>\n",
              "      <td>Q116492978</td>\n",
              "      <td>https://wikidata.org/wiki/Q116492978</td>\n",
              "      <td>['http://en.wikipedia.org/wiki/Adriano_Félix_T...</td>\n",
              "    </tr>\n",
              "    <tr>\n",
              "      <th>2</th>\n",
              "      <td>Francesca Goldthorp</td>\n",
              "      <td>Q116494457</td>\n",
              "      <td>https://wikidata.org/wiki/Q116494457</td>\n",
              "      <td>['http://en.wikipedia.org/wiki/Francesca_Goldt...</td>\n",
              "    </tr>\n",
              "    <tr>\n",
              "      <th>3</th>\n",
              "      <td>Georgia Hale</td>\n",
              "      <td>Q116495194</td>\n",
              "      <td>https://wikidata.org/wiki/Q116495194</td>\n",
              "      <td>['http://en.wikipedia.org/wiki/Georgia_Hale', ...</td>\n",
              "    </tr>\n",
              "    <tr>\n",
              "      <th>4</th>\n",
              "      <td>Karen Shaw</td>\n",
              "      <td>Q116502747</td>\n",
              "      <td>https://wikidata.org/wiki/Q116502747</td>\n",
              "      <td>['http://en.wikipedia.org/wiki/Karen_Shaw_Petr...</td>\n",
              "    </tr>\n",
              "    <tr>\n",
              "      <th>5</th>\n",
              "      <td>Emma Slowe</td>\n",
              "      <td>Q116502906</td>\n",
              "      <td>https://wikidata.org/wiki/Q116502906</td>\n",
              "      <td>['http://en.wikipedia.org/wiki/Emma_Flower_Tay...</td>\n",
              "    </tr>\n",
              "    <tr>\n",
              "      <th>6</th>\n",
              "      <td>Joanna Will</td>\n",
              "      <td>Q116504483</td>\n",
              "      <td>https://wikidata.org/wiki/Q116504483</td>\n",
              "      <td>['http://en.wikipedia.org/wiki/Joanna_Williams...</td>\n",
              "    </tr>\n",
              "  </tbody>\n",
              "</table>\n",
              "</div>\n",
              "      <button class=\"colab-df-convert\" onclick=\"convertToInteractive('df-b0c36a47-31e0-46be-8f0e-811382160631')\"\n",
              "              title=\"Convert this dataframe to an interactive table.\"\n",
              "              style=\"display:none;\">\n",
              "        \n",
              "  <svg xmlns=\"http://www.w3.org/2000/svg\" height=\"24px\"viewBox=\"0 0 24 24\"\n",
              "       width=\"24px\">\n",
              "    <path d=\"M0 0h24v24H0V0z\" fill=\"none\"/>\n",
              "    <path d=\"M18.56 5.44l.94 2.06.94-2.06 2.06-.94-2.06-.94-.94-2.06-.94 2.06-2.06.94zm-11 1L8.5 8.5l.94-2.06 2.06-.94-2.06-.94L8.5 2.5l-.94 2.06-2.06.94zm10 10l.94 2.06.94-2.06 2.06-.94-2.06-.94-.94-2.06-.94 2.06-2.06.94z\"/><path d=\"M17.41 7.96l-1.37-1.37c-.4-.4-.92-.59-1.43-.59-.52 0-1.04.2-1.43.59L10.3 9.45l-7.72 7.72c-.78.78-.78 2.05 0 2.83L4 21.41c.39.39.9.59 1.41.59.51 0 1.02-.2 1.41-.59l7.78-7.78 2.81-2.81c.8-.78.8-2.07 0-2.86zM5.41 20L4 18.59l7.72-7.72 1.47 1.35L5.41 20z\"/>\n",
              "  </svg>\n",
              "      </button>\n",
              "      \n",
              "  <style>\n",
              "    .colab-df-container {\n",
              "      display:flex;\n",
              "      flex-wrap:wrap;\n",
              "      gap: 12px;\n",
              "    }\n",
              "\n",
              "    .colab-df-convert {\n",
              "      background-color: #E8F0FE;\n",
              "      border: none;\n",
              "      border-radius: 50%;\n",
              "      cursor: pointer;\n",
              "      display: none;\n",
              "      fill: #1967D2;\n",
              "      height: 32px;\n",
              "      padding: 0 0 0 0;\n",
              "      width: 32px;\n",
              "    }\n",
              "\n",
              "    .colab-df-convert:hover {\n",
              "      background-color: #E2EBFA;\n",
              "      box-shadow: 0px 1px 2px rgba(60, 64, 67, 0.3), 0px 1px 3px 1px rgba(60, 64, 67, 0.15);\n",
              "      fill: #174EA6;\n",
              "    }\n",
              "\n",
              "    [theme=dark] .colab-df-convert {\n",
              "      background-color: #3B4455;\n",
              "      fill: #D2E3FC;\n",
              "    }\n",
              "\n",
              "    [theme=dark] .colab-df-convert:hover {\n",
              "      background-color: #434B5C;\n",
              "      box-shadow: 0px 1px 3px 1px rgba(0, 0, 0, 0.15);\n",
              "      filter: drop-shadow(0px 1px 2px rgba(0, 0, 0, 0.3));\n",
              "      fill: #FFFFFF;\n",
              "    }\n",
              "  </style>\n",
              "\n",
              "      <script>\n",
              "        const buttonEl =\n",
              "          document.querySelector('#df-b0c36a47-31e0-46be-8f0e-811382160631 button.colab-df-convert');\n",
              "        buttonEl.style.display =\n",
              "          google.colab.kernel.accessAllowed ? 'block' : 'none';\n",
              "\n",
              "        async function convertToInteractive(key) {\n",
              "          const element = document.querySelector('#df-b0c36a47-31e0-46be-8f0e-811382160631');\n",
              "          const dataTable =\n",
              "            await google.colab.kernel.invokeFunction('convertToInteractive',\n",
              "                                                     [key], {});\n",
              "          if (!dataTable) return;\n",
              "\n",
              "          const docLinkHtml = 'Like what you see? Visit the ' +\n",
              "            '<a target=\"_blank\" href=https://colab.research.google.com/notebooks/data_table.ipynb>data table notebook</a>'\n",
              "            + ' to learn more about interactive tables.';\n",
              "          element.innerHTML = '';\n",
              "          dataTable['output_type'] = 'display_data';\n",
              "          await google.colab.output.renderOutput(dataTable, element);\n",
              "          const docLink = document.createElement('div');\n",
              "          docLink.innerHTML = docLinkHtml;\n",
              "          element.appendChild(docLink);\n",
              "        }\n",
              "      </script>\n",
              "    </div>\n",
              "  </div>\n",
              "  "
            ]
          },
          "metadata": {},
          "execution_count": 7
        }
      ]
    },
    {
      "cell_type": "code",
      "source": [],
      "metadata": {
        "id": "bjshYjh9JMr1"
      },
      "execution_count": null,
      "outputs": []
    }
  ]
}